{
  "nbformat": 4,
  "nbformat_minor": 0,
  "metadata": {
    "colab": {
      "provenance": []
    },
    "kernelspec": {
      "name": "python3",
      "display_name": "Python 3"
    },
    "language_info": {
      "name": "python"
    }
  },
  "cells": [
    {
      "cell_type": "markdown",
      "source": [
        "# Bab 4: Representing Data and Engineering Features (Representasi Data dan Rekayasa Fitur)"
      ],
      "metadata": {
        "id": "6iT3BqHTcLts"
      }
    },
    {
      "cell_type": "markdown",
      "source": [
        "## 1. Tujuan\n",
        "Bab ini membahas pentingnya representasi data yang tepat dan bagaimana melakukan rekayasa fitur untuk meningkatkan performa model machine learning. Teknik seperti encoding variabel kategorikal, binning, interaksi antar fitur, dan seleksi fitur akan dijelaskan secara rinci."
      ],
      "metadata": {
        "id": "AaZZXmticQqS"
      }
    },
    {
      "cell_type": "markdown",
      "source": [
        "## 2. Implementasi Kode\n",
        "Berikut adalah contoh implementasi teknik rekayasa fitur:\n"
      ],
      "metadata": {
        "id": "0Mlzqb5pcSJz"
      }
    },
    {
      "cell_type": "code",
      "source": [
        "### 2.1 One-Hot Encoding (Encoding Variabel Kategorikal)\n",
        "import pandas as pd"
      ],
      "metadata": {
        "id": "yWjjziLBcUnY"
      },
      "execution_count": 1,
      "outputs": []
    },
    {
      "cell_type": "code",
      "source": [
        "data = {\n",
        "    'Kota': ['Bandung', 'Jakarta', 'Surabaya', 'Bandung', 'Jakarta'],\n",
        "    'Harga': [100, 200, 150, 120, 250]\n",
        "}\n",
        "df = pd.DataFrame(data)\n",
        "print(\"Data Asli:\\n\", df)"
      ],
      "metadata": {
        "colab": {
          "base_uri": "https://localhost:8080/"
        },
        "id": "IZqLGrZ5cZr7",
        "outputId": "1b8c3445-cc9f-4512-b282-5048ede7ed1c"
      },
      "execution_count": 2,
      "outputs": [
        {
          "output_type": "stream",
          "name": "stdout",
          "text": [
            "Data Asli:\n",
            "        Kota  Harga\n",
            "0   Bandung    100\n",
            "1   Jakarta    200\n",
            "2  Surabaya    150\n",
            "3   Bandung    120\n",
            "4   Jakarta    250\n"
          ]
        }
      ]
    },
    {
      "cell_type": "code",
      "source": [
        "encoded_df = pd.get_dummies(df, columns=['Kota'])\n",
        "print(\"Data setelah One-Hot Encoding:\\n\", encoded_df)"
      ],
      "metadata": {
        "colab": {
          "base_uri": "https://localhost:8080/"
        },
        "id": "hH0g5PjkccDG",
        "outputId": "e9edc233-c86c-4387-846b-5b10b85fdb65"
      },
      "execution_count": 3,
      "outputs": [
        {
          "output_type": "stream",
          "name": "stdout",
          "text": [
            "Data setelah One-Hot Encoding:\n",
            "    Harga  Kota_Bandung  Kota_Jakarta  Kota_Surabaya\n",
            "0    100          True         False          False\n",
            "1    200         False          True          False\n",
            "2    150         False         False           True\n",
            "3    120          True         False          False\n",
            "4    250         False          True          False\n"
          ]
        }
      ]
    },
    {
      "cell_type": "code",
      "source": [
        "import numpy as np"
      ],
      "metadata": {
        "id": "_1VKVge5ceJK"
      },
      "execution_count": 4,
      "outputs": []
    },
    {
      "cell_type": "code",
      "source": [
        "# Data continuous\n",
        "ages = [22, 25, 47, 35, 46, 55, 43, 50]\n",
        "\n",
        "# Diskretisasi menjadi kelompok umur\n",
        "bins = [20, 30, 40, 50, 60]\n",
        "labels = ['20-30', '30-40', '40-50', '50-60']\n",
        "age_bins = pd.cut(ages, bins=bins, labels=labels)\n",
        "print(\"Kelompok umur:\", age_bins)"
      ],
      "metadata": {
        "colab": {
          "base_uri": "https://localhost:8080/"
        },
        "id": "-DNUC51tch6S",
        "outputId": "e040eecd-e90e-4f7f-9b35-a9e6f0aecdc8"
      },
      "execution_count": 5,
      "outputs": [
        {
          "output_type": "stream",
          "name": "stdout",
          "text": [
            "Kelompok umur: ['20-30', '20-30', '40-50', '30-40', '40-50', '50-60', '40-50', '40-50']\n",
            "Categories (4, object): ['20-30' < '30-40' < '40-50' < '50-60']\n"
          ]
        }
      ]
    },
    {
      "cell_type": "code",
      "source": [
        "### 2.3 Interaksi Antar Fitur\n",
        "from sklearn.preprocessing import PolynomialFeatures"
      ],
      "metadata": {
        "id": "P2k_-Ip1ckTm"
      },
      "execution_count": 7,
      "outputs": []
    },
    {
      "cell_type": "code",
      "source": [
        "# Dataset sederhana\n",
        "X = np.array([[1, 2], [2, 3], [3, 4]])\n",
        "\n",
        "# Membuat interaksi fitur\n",
        "poly = PolynomialFeatures(degree=2, interaction_only=True, include_bias=False)\n",
        "X_poly = poly.fit_transform(X)\n",
        "print(\"Data asli:\\n\", X)\n",
        "print(\"Data dengan interaksi fitur:\\n\", X_poly)"
      ],
      "metadata": {
        "colab": {
          "base_uri": "https://localhost:8080/"
        },
        "id": "z5FrnEpXcmqy",
        "outputId": "fc07ae40-f4f8-4829-cbc0-66fa9871f2ce"
      },
      "execution_count": 8,
      "outputs": [
        {
          "output_type": "stream",
          "name": "stdout",
          "text": [
            "Data asli:\n",
            " [[1 2]\n",
            " [2 3]\n",
            " [3 4]]\n",
            "Data dengan interaksi fitur:\n",
            " [[ 1.  2.  2.]\n",
            " [ 2.  3.  6.]\n",
            " [ 3.  4. 12.]]\n"
          ]
        }
      ]
    },
    {
      "cell_type": "code",
      "source": [
        "### 2.4 Seleksi Fitur (Feature Selection)\n",
        "from sklearn.ensemble import RandomForestClassifier\n",
        "from sklearn.feature_selection import SelectFromModel\n",
        "\n",
        "# Dataset sederhana\n",
        "X = [[0, 0, 1], [1, 0, 0], [0, 1, 1]]\n",
        "y = [0, 1, 0]\n",
        "\n",
        "# RandomForest untuk seleksi fitur\n",
        "clf = RandomForestClassifier(n_estimators=10, random_state=0)\n",
        "clf.fit(X, y)\n",
        "model = SelectFromModel(clf, prefit=True)\n",
        "X_new = model.transform(X)\n",
        "print(\"Fitur yang dipilih:\\n\", X_new)"
      ],
      "metadata": {
        "colab": {
          "base_uri": "https://localhost:8080/"
        },
        "id": "WefyJI6jeA1K",
        "outputId": "5d19bf16-89d3-4c60-fd33-cd4522c71d98"
      },
      "execution_count": 9,
      "outputs": [
        {
          "output_type": "stream",
          "name": "stdout",
          "text": [
            "Fitur yang dipilih:\n",
            " [[0 1]\n",
            " [1 0]\n",
            " [0 1]]\n"
          ]
        }
      ]
    },
    {
      "cell_type": "markdown",
      "source": [
        "## 3. Penjelasan Teoritis\n",
        "\n",
        "### 3.1 Pentingnya Representasi Data\n",
        "Representasi data yang baik memengaruhi kemampuan model untuk memahami pola. Representasi yang salah dapat mengurangi performa model meskipun algoritma yang digunakan sudah optimal.\n",
        "\n",
        "### 3.2 Teknik Rekayasa Fitur\n",
        "- **One-Hot Encoding**: Digunakan untuk mengubah data kategorikal menjadi representasi numerik tanpa urutan.\n",
        "- **Binning**: Mengelompokkan data continuous ke dalam interval diskret untuk mengurangi sensitivitas terhadap outlier.\n",
        "- **Interaksi Fitur**: Menggabungkan dua atau lebih fitur untuk menangkap hubungan yang tidak terlihat dari fitur individu.\n",
        "- **Seleksi Fitur**: Memilih subset fitur yang paling relevan untuk meningkatkan efisiensi model.\n",
        "\n",
        "## 4. Insight & Ringkasan\n",
        "- Teknik rekayasa fitur seperti one-hot encoding dan binning sangat penting untuk menangani data kategorikal dan continuous.\n",
        "- Interaksi antar fitur dapat meningkatkan kemampuan model dalam menangkap pola kompleks.\n",
        "- Seleksi fitur membantu mengurangi dimensi data dan meningkatkan efisiensi."
      ],
      "metadata": {
        "id": "0PuZ21-3eG8p"
      }
    }
  ]
}