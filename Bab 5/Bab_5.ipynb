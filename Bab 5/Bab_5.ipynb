{
  "nbformat": 4,
  "nbformat_minor": 0,
  "metadata": {
    "colab": {
      "provenance": []
    },
    "kernelspec": {
      "name": "python3",
      "display_name": "Python 3"
    },
    "language_info": {
      "name": "python"
    }
  },
  "cells": [
    {
      "cell_type": "markdown",
      "source": [
        "# Bab 5: Model Evaluation and Improvement (Evaluasi dan Peningkatan Model)"
      ],
      "metadata": {
        "id": "QUj2_a9BebSg"
      }
    },
    {
      "cell_type": "markdown",
      "source": [
        "# Bab 5: Model Evaluation and Improvement (Evaluasi dan Peningkatan Model)\n",
        "\n",
        "## 1. Tujuan\n",
        "Bab ini membahas bagaimana mengevaluasi performa model machine learning secara objektif dan cara meningkatkan performanya melalui teknik seperti cross-validation, grid search, dan pemilihan metrik evaluasi yang tepat."
      ],
      "metadata": {
        "id": "gmpXJS48edXQ"
      }
    },
    {
      "cell_type": "markdown",
      "source": [
        "2. Implementasi Kode"
      ],
      "metadata": {
        "id": "47uX6O8TefHW"
      }
    },
    {
      "cell_type": "code",
      "source": [
        "# 2.1 Cross-Validation\n",
        "from sklearn.model_selection import cross_val_score\n",
        "from sklearn.ensemble import RandomForestClassifier\n",
        "from sklearn.datasets import load_iris\n",
        "\n",
        "# Load dataset Iris\n",
        "iris = load_iris()\n",
        "X, y = iris['data'], iris['target']\n",
        "\n",
        "# RandomForest dengan cross-validation\n",
        "clf = RandomForestClassifier(random_state=0)\n",
        "scores = cross_val_score(clf, X, y, cv=5)\n",
        "print(\"Cross-validation scores:\", scores)\n",
        "print(\"Rata-rata skor:\", scores.mean())\n"
      ],
      "metadata": {
        "colab": {
          "base_uri": "https://localhost:8080/"
        },
        "id": "Nd7USpwoegtt",
        "outputId": "45021038-87da-449c-8e76-4fbc758fd153"
      },
      "execution_count": 12,
      "outputs": [
        {
          "output_type": "stream",
          "name": "stdout",
          "text": [
            "Cross-validation scores: [0.96666667 0.96666667 0.93333333 0.96666667 1.        ]\n",
            "Rata-rata skor: 0.9666666666666668\n"
          ]
        }
      ]
    },
    {
      "cell_type": "code",
      "source": [
        "### 2.2 Grid Search\n",
        "from sklearn.model_selection import GridSearchCV\n",
        "\n",
        "# Parameter grid untuk RandomForest\n",
        "param_grid = {'n_estimators': [10, 50, 100], 'max_depth': [None, 10, 20]}\n",
        "\n",
        "# Grid search\n",
        "grid_search = GridSearchCV(RandomForestClassifier(random_state=0), param_grid, cv=5)\n",
        "grid_search.fit(X, y)\n",
        "print(\"Best parameters:\", grid_search.best_params_)\n",
        "print(\"Best cross-validation score:\", grid_search.best_score_)"
      ],
      "metadata": {
        "colab": {
          "base_uri": "https://localhost:8080/"
        },
        "id": "AfTni1ZTe0FL",
        "outputId": "99c7fa08-8ca9-4f33-9e2c-a1aa4a4e7091"
      },
      "execution_count": 13,
      "outputs": [
        {
          "output_type": "stream",
          "name": "stdout",
          "text": [
            "Best parameters: {'max_depth': None, 'n_estimators': 100}\n",
            "Best cross-validation score: 0.9666666666666668\n"
          ]
        }
      ]
    },
    {
      "cell_type": "markdown",
      "source": [
        "## 3. Penjelasan Teoritis\n",
        "- **Cross-Validation**: Membagi dataset menjadi beberapa lipatan (folds) untuk menghindari overfitting dan mendapatkan estimasi performa yang lebih akurat.\n",
        "- **Grid Search**: Mencari kombinasi parameter terbaik untuk model menggunakan evaluasi berulang pada grid parameter.\n",
        "- **Metrik Evaluasi**: Memilih metrik yang sesuai seperti akurasi, precision, recall, F1-score, atau AUC tergantung pada tujuan model.\n",
        "\n",
        "## 4. Insight & Ringkasan\n",
        "- Cross-validation membantu menghindari hasil evaluasi yang bias.\n",
        "- Grid search mempermudah pencarian hyperparameter terbaik.\n",
        "- Pemilihan metrik evaluasi yang tepat penting untuk memastikan model sesuai dengan kebutuhan aplikasi."
      ],
      "metadata": {
        "id": "d6cMNUqle41P"
      }
    }
  ]
}